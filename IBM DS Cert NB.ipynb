{
 "cells": [
  {
   "cell_type": "markdown",
   "id": "f322c144-8af1-4483-ada5-c7ae2bb3730d",
   "metadata": {},
   "source": [
    "# Data Science Tools and Ecosystem"
   ]
  },
  {
   "cell_type": "markdown",
   "id": "29cbbaed-fe80-40bc-b80a-29a0f069f9de",
   "metadata": {},
   "source": [
    "In this notebook, Data Science Tools and Ecosystem are summarized."
   ]
  },
  {
   "cell_type": "markdown",
   "id": "1c912b74-750c-49d9-bc6d-0e0aa00eaf7f",
   "metadata": {},
   "source": [
    "**Objectives**\n",
    "\n",
    "+ List popular languages for Data Science\n",
    "+ List useful Python Libraries\n",
    "+ Make a table of Data Science tools\n",
    "+ etc"
   ]
  },
  {
   "cell_type": "markdown",
   "id": "0470a8d9-58ff-4f84-a451-ac25bb3ee1ba",
   "metadata": {},
   "source": [
    "Some of the most used languages are:\n",
    "1. Python\n",
    "2. R\n",
    "3. SQL"
   ]
  },
  {
   "cell_type": "markdown",
   "id": "21b2d008-0dbd-48e2-9d86-3e2d7c1e3d49",
   "metadata": {},
   "source": [
    "Some of the most used python libraries include:\n",
    "\n",
    "1. PyTorch\n",
    "2. Pandas\n",
    "3. Mathplotlib"
   ]
  },
  {
   "cell_type": "markdown",
   "id": "3fbecc50-2376-492a-9c62-ceaa702c8b70",
   "metadata": {},
   "source": [
    "| Data Science tools |\n",
    "| ------------------- |\n",
    "| Apache Spark |\n",
    "| MySQL |\n",
    "| Tableau Desktop |\n"
   ]
  },
  {
   "cell_type": "markdown",
   "id": "118d342b-8a21-4bc3-851e-e37f0c5592e9",
   "metadata": {},
   "source": [
    "### Below are a few examples of evaluating arithmetic expressions in Python"
   ]
  },
  {
   "cell_type": "code",
   "execution_count": 2,
   "id": "a042986c-6b20-462e-abe8-8193499a8123",
   "metadata": {},
   "outputs": [
    {
     "data": {
      "text/plain": [
       "17"
      ]
     },
     "execution_count": 2,
     "metadata": {},
     "output_type": "execute_result"
    }
   ],
   "source": [
    "#This a simple arithmetic expression to mutiply then add integers\n",
    "(3*4)+5"
   ]
  },
  {
   "cell_type": "code",
   "execution_count": 3,
   "id": "974c0723-4bd3-4af7-ade1-3fed6a89f8d5",
   "metadata": {},
   "outputs": [
    {
     "name": "stdout",
     "output_type": "stream",
     "text": [
      "The converted number is 3\n"
     ]
    }
   ],
   "source": [
    "#This will convert 200 minutes to hours by diving by 60\n",
    "#i = int(input(\"enter a number you want to convert to hours\"))\n",
    "i=200\n",
    "a = round(i/60)\n",
    "print(f\"The converted number is {a}\")"
   ]
  },
  {
   "cell_type": "markdown",
   "id": "b66bf0c6-c03b-440e-a28e-fdc47bcecd9e",
   "metadata": {},
   "source": [
    "## Author\n",
    "Olufela Yesufu"
   ]
  },
  {
   "cell_type": "code",
   "execution_count": null,
   "id": "ece9fcba-ff13-4247-a732-16f7400de0a5",
   "metadata": {},
   "outputs": [],
   "source": []
  }
 ],
 "metadata": {
  "kernelspec": {
   "display_name": "Python 3 (ipykernel)",
   "language": "python",
   "name": "python3"
  },
  "language_info": {
   "codemirror_mode": {
    "name": "ipython",
    "version": 3
   },
   "file_extension": ".py",
   "mimetype": "text/x-python",
   "name": "python",
   "nbconvert_exporter": "python",
   "pygments_lexer": "ipython3",
   "version": "3.12.4"
  }
 },
 "nbformat": 4,
 "nbformat_minor": 5
}
